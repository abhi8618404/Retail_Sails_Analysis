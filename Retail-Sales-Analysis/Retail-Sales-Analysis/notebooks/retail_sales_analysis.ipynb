{
  "cells": [
    {
      "cell_type": "markdown",
      "metadata": {},
      "source": [
        "# Retail Sales Analysis\n",
        "This notebook contains data cleaning, EDA, visualizations and business insights for a retail sales dataset.\n",
        "Skills: Pandas, NumPy, Matplotlib, EDA, Customer segmentation, Insights."
      ]
    },
    {
      "cell_type": "code",
      "execution_count": null,
      "metadata": {},
      "outputs": [],
      "source": [
        "import pandas as pd\n",
        "import numpy as np\n",
        "import matplotlib.pyplot as plt\n",
        "%matplotlib inline\n",
        "df = pd.read_csv('../data/retail_sales.csv', parse_dates=['Date'])\n",
        "df.head()"
      ]
    },
    {
      "cell_type": "markdown",
      "metadata": {},
      "source": [
        "## Data Cleaning\n",
        "- Check missing values\n",
        "- Remove duplicates\n",
        "- Convert datatypes\n"
      ]
    },
    {
      "cell_type": "code",
      "execution_count": null,
      "metadata": {},
      "outputs": [],
      "source": [
        "df.info()\n",
        "df.isnull().sum()"
      ]
    },
    {
      "cell_type": "code",
      "execution_count": null,
      "metadata": {},
      "outputs": [],
      "source": [
        "# Simple cleaning\n",
        "df_clean = df.copy()\n",
        "df_clean.drop_duplicates(inplace=True)\n",
        "df_clean['Product'].fillna('Unknown', inplace=True)\n",
        "df_clean['Category'].fillna('Unknown', inplace=True)\n",
        "df_clean['Region'].fillna('Unknown', inplace=True)\n",
        "df_clean['Total Revenue'] = df_clean['Total Revenue'].astype(float)\n",
        "df_clean.head()"
      ]
    },
    {
      "cell_type": "markdown",
      "metadata": {},
      "source": [
        "## Exploratory Data Analysis\n",
        "- Monthly revenue trend\n",
        "- Top products\n",
        "- Revenue by region\n"
      ]
    },
    {
      "cell_type": "code",
      "execution_count": null,
      "metadata": {},
      "outputs": [],
      "source": [
        "monthly = df_clean.set_index('Date').resample('M')['Total Revenue'].sum()\n",
        "monthly.plot(figsize=(10,5), title='Monthly Revenue')\n"
      ]
    },
    {
      "cell_type": "code",
      "execution_count": null,
      "metadata": {},
      "outputs": [],
      "source": [
        "top_products = df_clean.groupby('Product')['Total Revenue'].sum().sort_values(ascending=False).head(10)\n",
        "top_products.plot(kind='barh', figsize=(8,6), title='Top 10 Products by Revenue')\n"
      ]
    },
    {
      "cell_type": "markdown",
      "metadata": {},
      "source": [
        "## Customer Segmentation (simple RFM-like)\n",
        "This section demonstrates how to identify high-value customers."
      ]
    },
    {
      "cell_type": "code",
      "execution_count": null,
      "metadata": {},
      "outputs": [],
      "source": [
        "cust = df_clean.groupby('Customer ID').agg({'Date':'max','Order ID':'count','Total Revenue':'sum'}).rename(columns={'Order ID':'orders'})\n",
        "cust.sort_values('Total Revenue', ascending=False).head(10)"
      ]
    },
    {
      "cell_type": "markdown",
      "metadata": {},
      "source": [
        "## Insights & Recommendations\n",
        "- Focus marketing on top regions and products\n",
        "- Offer loyalty discounts to top customers\n",
        "- Investigate low-performing categories"
      ]
    }
  ],
  "metadata": {
    "kernelspec": {
      "display_name": "Python 3",
      "language": "python",
      "name": "python3"
    },
    "language_info": {
      "name": "python",
      "version": "3.8"
    }
  },
  "nbformat": 4,
  "nbformat_minor": 5
}